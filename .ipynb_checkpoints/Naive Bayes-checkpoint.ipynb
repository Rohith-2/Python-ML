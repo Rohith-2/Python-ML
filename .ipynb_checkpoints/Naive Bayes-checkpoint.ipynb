{
 "cells": [
  {
   "cell_type": "code",
   "execution_count": 1,
   "metadata": {},
   "outputs": [],
   "source": [
    "import math\n",
    "import numpy as np\n",
    "import pandas\n",
    "from sklearn.preprocessing import LabelEncoder \n",
    "from sklearn.model_selection import train_test_split"
   ]
  },
  {
   "cell_type": "markdown",
   "metadata": {},
   "source": [
    "## Generating the DataSet:"
   ]
  },
  {
   "cell_type": "code",
   "execution_count": 2,
   "metadata": {},
   "outputs": [],
   "source": [
    "d = pandas.read_csv('/Users/rohith/Downloads/Iris.csv')"
   ]
  },
  {
   "cell_type": "code",
   "execution_count": 3,
   "metadata": {},
   "outputs": [],
   "source": [
    "D=pandas.DataFrame(d)"
   ]
  },
  {
   "cell_type": "code",
   "execution_count": 4,
   "metadata": {},
   "outputs": [],
   "source": [
    "le = LabelEncoder() \n",
    "#Using the Labelencoder to Encode the Species to Integers\n",
    "D['Species']= le.fit_transform(D['Species'])\n",
    "#Id is not needed\n",
    "D=D.drop('Id',axis=1)"
   ]
  },
  {
   "cell_type": "code",
   "execution_count": 5,
   "metadata": {},
   "outputs": [],
   "source": [
    "#Splitting the DataSet into Test and training\n",
    "train, test = train_test_split(D, test_size=0.2)"
   ]
  },
  {
   "cell_type": "markdown",
   "metadata": {},
   "source": [
    "## Defining the Class for Naive Bayes :"
   ]
  },
  {
   "cell_type": "code",
   "execution_count": 6,
   "metadata": {},
   "outputs": [],
   "source": [
    "class NB:\n",
    "    \n",
    "    #Computes probability using mean and variance    \n",
    "    def pro(self,x, mean, variance):\n",
    "\n",
    "        # Likelyhood - probability density function - Gaussian\n",
    "        p = 1/(np.sqrt(2*np.pi*variance)) * np.exp((-(x-mean)**2)/(2*variance))\n",
    "\n",
    "        return p\n",
    "    \n",
    "    #train will be a DataFrame using whcih we will compute mean and variance for each class label\n",
    "    def train(self,train):\n",
    "        \n",
    "        #We are grouping using the class labels which will be the last column in the sample\n",
    "        self.mean=train.groupby(train.iloc[:,-1]).mean().to_numpy()\n",
    "        \n",
    "        #Similarly for variance\n",
    "        self.var=train.groupby(train.iloc[:,-1]).var().to_numpy()\n",
    "        \n",
    "        #tc is the total number of samples in the dataset\n",
    "        tc=train.count()[0]\n",
    "        \n",
    "        #samples in each class divided by the total (Probability of each class)\n",
    "        self.c=train.groupby(train.iloc[:,-1]).count().iloc[:,0].to_numpy()/tc  \n",
    "\n",
    "    def predict(self,tp):\n",
    "        p=[]\n",
    "        #using for loops and pro function we compute the result matrix\n",
    "        for a in range(len(self.mean)):\n",
    "            pp=self.c[a]\n",
    "            for i in range(len(tp)):\n",
    "                pp*=self.pro(tp[i],self.mean[a][i],self.var[a][i])\n",
    "            p.append(pp)\n",
    "        #p will be the probability matrix and we return the index of the max which will be our class label\n",
    "        return p.index(max(p))"
   ]
  },
  {
   "cell_type": "code",
   "execution_count": 7,
   "metadata": {},
   "outputs": [],
   "source": [
    "#Storing the class labels for validation\n",
    "out=test.iloc[:,-1].to_numpy()\n",
    "\n",
    "#Finalising our test dataset and dropping the class labels and converting to array\n",
    "test_array=test.drop(test.columns[-1],axis=1).to_numpy()"
   ]
  },
  {
   "cell_type": "markdown",
   "metadata": {},
   "source": [
    "## Initialising the Class and feeding the training data:"
   ]
  },
  {
   "cell_type": "code",
   "execution_count": 8,
   "metadata": {},
   "outputs": [],
   "source": [
    "a=NB()\n",
    "a.train(train) #train is the dataset"
   ]
  },
  {
   "cell_type": "code",
   "execution_count": 9,
   "metadata": {},
   "outputs": [],
   "source": [
    "#Computing result for all the samples in the test via a for loop\n",
    "result=[a.predict(x) for x in test_array] #test data should be a np array"
   ]
  },
  {
   "cell_type": "markdown",
   "metadata": {},
   "source": [
    "#### Measuring the accuracy of the algorithm by matching if the result and out matrix have the saem corresponding elements <br>(Validating if the prediction is right)"
   ]
  },
  {
   "cell_type": "code",
   "execution_count": 10,
   "metadata": {},
   "outputs": [],
   "source": [
    "p=0\n",
    "for i in range(len(result)):\n",
    "       if(out[i]==result[i]):\n",
    "            p+=1\n",
    "p=p*100/len(result)"
   ]
  },
  {
   "cell_type": "code",
   "execution_count": 11,
   "metadata": {},
   "outputs": [
    {
     "name": "stdout",
     "output_type": "stream",
     "text": [
      "Accuracy: 96.66666666666667\n"
     ]
    }
   ],
   "source": [
    "print(\"Accuracy:\",p)"
   ]
  }
 ],
 "metadata": {
  "kernelspec": {
   "display_name": "Python 3.8.0 64-bit",
   "language": "python",
   "name": "python38064bit1060d4750c904259afeb7847dfa8ded2"
  },
  "language_info": {
   "codemirror_mode": {
    "name": "ipython",
    "version": 3
   },
   "file_extension": ".py",
   "mimetype": "text/x-python",
   "name": "python",
   "nbconvert_exporter": "python",
   "pygments_lexer": "ipython3",
   "version": "3.9.0"
  }
 },
 "nbformat": 4,
 "nbformat_minor": 4
}
