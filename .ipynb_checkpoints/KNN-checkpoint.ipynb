{
 "cells": [
  {
   "cell_type": "code",
   "execution_count": 1,
   "metadata": {},
   "outputs": [],
   "source": [
    "dataset = [[2.7810836,2.550537003],\n",
    "\t[1.465489372,2.362125076],\n",
    "\t[3.396561688,4.400293529],\n",
    "\t[1.38807019,1.850220317],\n",
    "\t[3.06407232,3.005305973],\n",
    "\t[7.627531214,2.759262235],\n",
    "\t[5.332441248,2.088626775],\n",
    "\t[6.922596716,1.77106367],\n",
    "\t[8.675418651,-0.242068655],\n",
    "\t[7.673756466,3.508563011]]"
   ]
  },
  {
   "cell_type": "code",
   "execution_count": 2,
   "metadata": {},
   "outputs": [],
   "source": [
    " def distance(self,x, y):\n",
    "        s=0\n",
    "        for i in range(0,len(x)):\n",
    "            s += (x[i] - y[i])**2\n",
    "        return math.sqrt(s)"
   ]
  },
  {
   "cell_type": "code",
   "execution_count": 3,
   "metadata": {},
   "outputs": [
    {
     "data": {
      "text/plain": [
       "10"
      ]
     },
     "execution_count": 3,
     "metadata": {},
     "output_type": "execute_result"
    }
   ],
   "source": [
    "len(dataset)"
   ]
  },
  {
   "cell_type": "code",
   "execution_count": null,
   "metadata": {},
   "outputs": [],
   "source": []
  }
 ],
 "metadata": {
  "kernelspec": {
   "display_name": "Python 3.8.0 64-bit",
   "language": "python",
   "name": "python38064bit1060d4750c904259afeb7847dfa8ded2"
  },
  "language_info": {
   "codemirror_mode": {
    "name": "ipython",
    "version": 3
   },
   "file_extension": ".py",
   "mimetype": "text/x-python",
   "name": "python",
   "nbconvert_exporter": "python",
   "pygments_lexer": "ipython3",
   "version": "3.8.0"
  }
 },
 "nbformat": 4,
 "nbformat_minor": 4
}
